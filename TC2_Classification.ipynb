{
 "cells": [
  {
   "cell_type": "markdown",
   "id": "0f528029-65cc-4dbb-9dd6-34e1fd06778b",
   "metadata": {},
   "source": [
    "# Tech Check 2 - Classification\n",
    "Run the entire code block below. A final model will be created titled ***'final_gbc'***. You will use that final_gbc to predict the unseen data that will be imported for you below. Answer the questions in the quiz. "
   ]
  },
  {
   "cell_type": "code",
   "execution_count": null,
   "id": "1de703a4-ade0-45a5-b6f1-8ba127528be7",
   "metadata": {},
   "outputs": [],
   "source": [
    "import pandas as pd\n",
    "data = pd.read_csv('https://raw.githubusercontent.com/dolinger-nscc/datasets/main/online_foods.csv')\n",
    "\n",
    "from pycaret.classification import setup, models, create_model, tune_model, finalize_model, save_model\n",
    "cls = setup(data, target='Feedback', session_id=42, fix_imbalance=True);\n",
    "\n",
    "gbc = create_model('gbc');\n",
    "tuned_gbc =  tune_model(gbc);\n",
    "final_gbc= finalize_model(tuned_gbc)\n",
    "final_gbc"
   ]
  },
  {
   "cell_type": "markdown",
   "id": "fa4ff5d8-148e-4263-9cb9-723056efeabc",
   "metadata": {},
   "source": [
    "## Predictions\n",
    "The unseen data is imported below into the ***'unseen'*** variable. Using yuor final_gbc model above, make predictions on the unseen dataset. As you see in the model above, the target is the 'Feedback' feature."
   ]
  },
  {
   "cell_type": "code",
   "execution_count": null,
   "id": "463a2556-bd8e-462c-af30-599daab92127",
   "metadata": {},
   "outputs": [],
   "source": [
    "unseen = pd.read_csv('https://raw.githubusercontent.com/dolinger-nscc/datasets/main/unseen_onlinefoods.csv')\n",
    "unseen"
   ]
  },
  {
   "cell_type": "code",
   "execution_count": null,
   "id": "2ad23e7a-c4c0-41b8-85b3-22b6bb18079d",
   "metadata": {},
   "outputs": [],
   "source": []
  }
 ],
 "metadata": {
  "kernelspec": {
   "display_name": "Python 3 (ipykernel)",
   "language": "python",
   "name": "python3"
  },
  "language_info": {
   "codemirror_mode": {
    "name": "ipython",
    "version": 3
   },
   "file_extension": ".py",
   "mimetype": "text/x-python",
   "name": "python",
   "nbconvert_exporter": "python",
   "pygments_lexer": "ipython3",
   "version": "3.11.8"
  }
 },
 "nbformat": 4,
 "nbformat_minor": 5
}
